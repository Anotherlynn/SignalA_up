{
 "cells": [
  {
   "cell_type": "markdown",
   "metadata": {
    "collapsed": true,
    "pycharm": {
     "name": "#%%md\n"
    }
   },
   "source": [
    "## SignalA_up\n",
    "\n",
    "SignalA_up 提供了用于分析上市公司临时公告的模型和函数，包括不同的大语言模型（LLM）、嵌入（embedding）方法、测试模型和辅助工具（如OpenAI API的本地调用）。\n",
    "\n",
    "您可以在[这里](./README.md)找到具体的方程和分析。 本文件展示如何简单使用SignalA_up分析目标事件。"
   ]
  },
  {
   "cell_type": "markdown",
   "metadata": {
    "pycharm": {
     "name": "#%%md\n"
    }
   },
   "source": [
    "### 目前的事件Tag：\n",
    "<div>\n",
    "    <table align=\"center\">\n",
    "        <thead>\n",
    "          <tr>\n",
    "            <th><b>临时公告事件</b></th>\n",
    "            <th><b>临时公告事件</b></th>\n",
    "            <th><b>临时公告事件</b></th>\n",
    "          </tr>\n",
    "        </thead>\n",
    "        <tbody>\n",
    "          <tr>\n",
    "            <td>分红</td>\n",
    "            <td>股东大会决议</td>\n",
    "            <td>资产重组</td>\n",
    "          </tr>\n",
    "          <tr>\n",
    "            <td>业绩预告</td>\n",
    "            <td>持股变动</td>\n",
    "            <td>再融资</td>\n",
    "          </tr>\n",
    "          <tr>\n",
    "            <td>股权激励</td>\n",
    "            <td>交易所公开信息</td>\n",
    "            <td>关联交易</td>\n",
    "          </tr>\n",
    "          <tr>\n",
    "            <td>退市风险</td>\n",
    "            <td>新项目开展</td>\n",
    "            <td>担保</td>\n",
    "          </tr>\n",
    "          <tr>\n",
    "            <td>会计政策变更</td>\n",
    "            <td>人员聘请</td>\n",
    "            <td>现金管理</td>\n",
    "          </tr>\n",
    "          <tr>\n",
    "            <td>变更信息</td>\n",
    "            <td>IPO</td>\n",
    "            <td>审计保留意见</td>\n",
    "          </tr>\n",
    "          <tr>\n",
    "            <td>异常波动</td>\n",
    "            <td>变更信息</td>\n",
    "            <td>内部控制</td>\n",
    "          </tr>\n",
    "          </tr>\n",
    "        </tbody>\n",
    "    </table>\n",
    "</div>\n"
   ]
  },
  {
   "cell_type": "markdown",
   "metadata": {},
   "source": [
    "## 1. 搭建环境\n",
    "\n",
    "在cmd中运行\n",
    "```bash\n",
    "conda create -n your_env_name python=3.10\n",
    "```\n",
    "\n",
    "启动环境\n",
    "```bash\n",
    "conda activate your_env_nam\n",
    "```\n",
    "\n",
    "\n",
    "关闭环境\n",
    "```bash\n",
    "conda deactivate\n",
    "```"
   ]
  },
  {
   "cell_type": "markdown",
   "metadata": {},
   "source": [
    "## 2. 下载项目到本地"
   ]
  },
  {
   "cell_type": "code",
   "execution_count": 15,
   "metadata": {
    "pycharm": {
     "name": "#%%\n"
    }
   },
   "outputs": [
    {
     "name": "stdout",
     "output_type": "stream",
     "text": [
      "Cloning into 'SignalA_up'...\n",
      "fatal: unable to connect to github.com:\n",
      "github.com[0: 20.205.243.166]: errno=Operation timed out\n",
      "\n"
     ]
    }
   ],
   "source": [
    "# 在您的目标文件夹下运行\n",
    "# cd 目标文件夹\n",
    "!git clone git://github.com/Anotherlynn/SignalA_up.git"
   ]
  },
  {
   "cell_type": "markdown",
   "metadata": {},
   "source": [
    "> ### 这需要花一些时间，如果慢，则直接[在这里](https://github.com/Anotherlynn/SignalA_up/archive/refs/heads/main.zip)下载解压zip即可。\n",
    "请下载data.zip文件，并放在SignalA_up下， 即SignalA_up/data"
   ]
  },
  {
   "cell_type": "markdown",
   "metadata": {},
   "source": [
    "## 3. 下载相应的依赖包\n",
    "\n",
    "```bash\n",
    "cd SignalA_up\n",
    "conda install -n your_env_nam requirements.txt\n",
    "```"
   ]
  },
  {
   "cell_type": "markdown",
   "metadata": {},
   "source": [
    "***特别注意，请通过以下方式下载xgboost分类器***\n",
    "```bash\n",
    "conda install py-xgboost\n",
    "```"
   ]
  },
  {
   "cell_type": "code",
   "execution_count": 8,
   "metadata": {},
   "outputs": [
    {
     "ename": "ModuleNotFoundError",
     "evalue": "No module named 'xgboost'",
     "output_type": "error",
     "traceback": [
      "\u001b[0;31m---------------------------------------------------------------------------\u001b[0m",
      "\u001b[0;31mModuleNotFoundError\u001b[0m                       Traceback (most recent call last)",
      "Cell \u001b[0;32mIn[8], line 5\u001b[0m\n\u001b[1;32m      1\u001b[0m \u001b[38;5;28;01mimport\u001b[39;00m \u001b[38;5;21;01mpandas\u001b[39;00m \u001b[38;5;28;01mas\u001b[39;00m \u001b[38;5;21;01mpd\u001b[39;00m\n\u001b[1;32m      3\u001b[0m \u001b[38;5;66;03m# from proj.mergedata import Preprocessor\u001b[39;00m\n\u001b[1;32m      4\u001b[0m \u001b[38;5;66;03m# from topic_model import LDA\u001b[39;00m\n\u001b[0;32m----> 5\u001b[0m \u001b[38;5;28;01mfrom\u001b[39;00m \u001b[38;5;21;01mproj\u001b[39;00m\u001b[38;5;21;01m.\u001b[39;00m\u001b[38;5;21;01moutput\u001b[39;00m \u001b[38;5;28;01mimport\u001b[39;00m event_tag\n\u001b[1;32m      6\u001b[0m \u001b[38;5;28;01mimport\u001b[39;00m \u001b[38;5;21;01mwarnings\u001b[39;00m\n\u001b[1;32m      7\u001b[0m \u001b[38;5;28;01mimport\u001b[39;00m \u001b[38;5;21;01mnumpy\u001b[39;00m \u001b[38;5;28;01mas\u001b[39;00m \u001b[38;5;21;01mnp\u001b[39;00m\n",
      "File \u001b[0;32m~/Desktop/NYU的课/job session/projects/signalA/proj/output.py:2\u001b[0m\n\u001b[1;32m      1\u001b[0m \u001b[38;5;28;01mimport\u001b[39;00m \u001b[38;5;21;01mpandas\u001b[39;00m \u001b[38;5;28;01mas\u001b[39;00m \u001b[38;5;21;01mpd\u001b[39;00m\n\u001b[0;32m----> 2\u001b[0m \u001b[38;5;28;01mfrom\u001b[39;00m \u001b[38;5;21;01mproj\u001b[39;00m\u001b[38;5;21;01m.\u001b[39;00m\u001b[38;5;21;01mbuild_model\u001b[39;00m \u001b[38;5;28;01mimport\u001b[39;00m XGB_clf\n\u001b[1;32m      3\u001b[0m \u001b[38;5;28;01mfrom\u001b[39;00m \u001b[38;5;21;01msklearn\u001b[39;00m\u001b[38;5;21;01m.\u001b[39;00m\u001b[38;5;21;01mmetrics\u001b[39;00m \u001b[38;5;28;01mimport\u001b[39;00m fbeta_score\n\u001b[1;32m      4\u001b[0m \u001b[38;5;28;01mfrom\u001b[39;00m \u001b[38;5;21;01msklearn\u001b[39;00m\u001b[38;5;21;01m.\u001b[39;00m\u001b[38;5;21;01mmultioutput\u001b[39;00m \u001b[38;5;28;01mimport\u001b[39;00m MultiOutputClassifier\n",
      "File \u001b[0;32m~/Desktop/NYU的课/job session/projects/signalA/proj/build_model.py:16\u001b[0m\n\u001b[1;32m     12\u001b[0m \u001b[38;5;28;01mfrom\u001b[39;00m \u001b[38;5;21;01msklearn\u001b[39;00m\u001b[38;5;21;01m.\u001b[39;00m\u001b[38;5;21;01mmetrics\u001b[39;00m \u001b[38;5;28;01mimport\u001b[39;00m classification_report\n\u001b[1;32m     13\u001b[0m \u001b[38;5;28;01mfrom\u001b[39;00m \u001b[38;5;21;01msklearn\u001b[39;00m\u001b[38;5;21;01m.\u001b[39;00m\u001b[38;5;21;01mmetrics\u001b[39;00m \u001b[38;5;28;01mimport\u001b[39;00m accuracy_score, f1_score, roc_auc_score, roc_curve, log_loss, mean_absolute_error, \\\n\u001b[1;32m     14\u001b[0m     precision_recall_curve\n\u001b[0;32m---> 16\u001b[0m \u001b[38;5;28;01mimport\u001b[39;00m \u001b[38;5;21;01mxgboost\u001b[39;00m \u001b[38;5;28;01mas\u001b[39;00m \u001b[38;5;21;01mxgb\u001b[39;00m\n\u001b[1;32m     17\u001b[0m \u001b[38;5;28;01mfrom\u001b[39;00m \u001b[38;5;21;01mxgboost\u001b[39;00m \u001b[38;5;28;01mimport\u001b[39;00m XGBClassifier\n\u001b[1;32m     19\u001b[0m \u001b[38;5;28;01mfrom\u001b[39;00m \u001b[38;5;21;01msklearn\u001b[39;00m\u001b[38;5;21;01m.\u001b[39;00m\u001b[38;5;21;01mmodel_selection\u001b[39;00m \u001b[38;5;28;01mimport\u001b[39;00m train_test_split\n",
      "\u001b[0;31mModuleNotFoundError\u001b[0m: No module named 'xgboost'"
     ]
    }
   ],
   "source": [
    "import pandas as pd\n",
    "\n",
    "# from proj.mergedata import Preprocessor\n",
    "# from topic_model import LDA\n",
    "from proj.output import event_tag\n",
    "import warnings\n",
    "import numpy as np\n",
    "warnings.filterwarnings(\"ignore\")"
   ]
  },
  {
   "cell_type": "code",
   "execution_count": null,
   "metadata": {},
   "outputs": [],
   "source": [
    "# 运行下面的代码即可开始分析\n",
    "\n",
    "if __name__ == \"__main__\":\n",
    "\n",
    "\n",
    "    data = pd.read_csv('data/sample.csv',index_col=0)\n",
    "    save_file = input(\"请输入想要输出文件的绝对文档位置，格式：mac/doc，按回车输入 ：\\n\")\n",
    "    Tag = input(\"请输入要分析的事件，用逗号分隔开。\\n\\n可选择的事件有：异常波动, 分红, 股东大会决议, 业绩预告,\\n持股变动, 资产重组, 再融资, 股权激励,\\n关联交易, 担保, 退市风险, 交易所交易公开信息,\\n\"\n",
    "                \"现金管理, 会计政策变更, 人员聘请, 审计保留意见,\\nIPO, 变更信息, 内部控制, 新项目开展, 诉讼案件, 承诺澄清\\n\")\n",
    "\n",
    "    # save_file = \"./result\"\n",
    "    Tag = Tag.replace(\"，\",\",\")\n",
    "    Tag = Tag.replace(\" \",\",\")\n",
    "    a = Tag.split(\",\")\n",
    "    b = [i!='' for i in Tag.split(\",\")]\n",
    "    Tag_ = []\n",
    "    for i, t in zip(a,b):\n",
    "        if t:\n",
    "            Tag_.append(i)\n",
    "    report1 = event_tag(data,Tag=Tag_, save_file = save_file)\n",
    "    report1.reports()"
   ]
  },
  {
   "cell_type": "markdown",
   "metadata": {},
   "source": [
    "## 4. 输出解释\n",
    "- 所有的单事件分析都会保存在`/目标文件夹/事件名称/`下， 所有的多事件分析会保存在第一个事件标签的目录下；\n",
    "\n",
    "\n",
    "- 举例：在如下的文件结构中：\n",
    "    - /result/分红 ：“分红”事件输出位置\n",
    "    - /result/分红/样本159.xlsx : 符合筛选的样本全部信息，15代表有159条符合这类事件\n",
    "    - /result/分红/xgb_clf_20230828155440.xgb : 保存的模型，可通过`saveif=False`来不保存\n",
    "    - /result/分红/[]_分类模型训练过程.png : 分类器可视化图，可在`build_model.py`中重命名\n",
    "    - /result/分红/分红.png : 保存的*单事件影响力分析（3个base）*"
   ]
  },
  {
   "cell_type": "markdown",
   "metadata": {},
   "source": [
    "## 5. 交互示例：\n",
    "\n",
    "```bash\n",
    "    `请输入想要输出文件的绝对文档位置，格式：mac/doc，按回车输入 ：`\n",
    "\n",
    "    /Users/mac/Desktop/NYU的课/job session/projects/signalA/result\n",
    "\n",
    "    `请输入要分析的事件，用逗号分隔开。\n",
    "\n",
    "    可选择的事件有：异常波动, 分红, 股东大会决议, 业绩预告,\n",
    "    持股变动, 资产重组, 再融资, 股权激励,\n",
    "    关联交易, 担保, 退市风险, 交易所交易公开信息,\n",
    "    现金管理, 会计政策变更, 人员聘请, 审计保留意见,\n",
    "    IPO, 变更信息, 内部控制, 新项目开展, 诉讼案件, 承诺澄清`\n",
    "\n",
    "    分红, 股东大会决议\n",
    "    \n",
    "    ## 建模过程+绘图（由三部分组成：拟合过程（分类损失）、roc曲线和pr曲线）\n",
    "    `分红,股东大会决议:事件统计报告\n",
    "        事件样本已保存！\n",
    "        Start training\n",
    "        [0]\tvalidation_0-logloss:0.63059\tvalidation_0-error:0.11985\tvalidation_1-logloss:0.63597\tvalidation_1-error:0.16411\n",
    "        [10]\tvalidation_0-logloss:0.33948\tvalidation_0-error:0.09492\tvalidation_1-logloss:0.37989\tvalidation_1-error:0.13282\n",
    "        [20]\tvalidation_0-logloss:0.24336\tvalidation_0-error:0.07910\tvalidation_1-logloss:0.30538\tvalidation_1-error:0.12644\n",
    "        [30]\tvalidation_0-logloss:0.19849\tvalidation_0-error:0.07047\tvalidation_1-logloss:0.27751\tvalidation_1-error:0.12005\n",
    "        [40]\tvalidation_0-logloss:0.17106\tvalidation_0-error:0.06200\tvalidation_1-logloss:0.26337\tvalidation_1-error:0.11430\n",
    "        [50]\tvalidation_0-logloss:0.15135\tvalidation_0-error:0.05257\tvalidation_1-logloss:0.25365\tvalidation_1-error:0.11239\n",
    "        [60]\tvalidation_0-logloss:0.13710\tvalidation_0-error:0.04602\tvalidation_1-logloss:0.25060\tvalidation_1-error:0.11367\n",
    "        [61]\tvalidation_0-logloss:0.13564\tvalidation_0-error:0.04474\tvalidation_1-logloss:0.25049\tvalidation_1-error:0.11430\n",
    "        开始画图\n",
    "        成功保存\n",
    "        ……\n",
    "        `\n",
    "\n",
    "```"
   ]
  },
  {
   "cell_type": "markdown",
   "metadata": {},
   "source": [
    "## 6. 修改和debug\n",
    "如后续需要修改函数/有报错，以下是部分函数功能的位置：\n",
    "- 构建模型在[build_model](./proj/build_model.py),包括单，多标签的xgboost及过程绘图\n",
    "- 输出流程在[output](./proj/output.py),主要包括数据存储和调用分类器\n",
    "- PSM的实现和价格的计算[PSM](./proj/PSM.py),控制衡量单个事件影响的图的绘制和变量计算。"
   ]
  },
  {
   "cell_type": "code",
   "execution_count": null,
   "metadata": {},
   "outputs": [],
   "source": []
  }
 ],
 "metadata": {
  "kernelspec": {
   "display_name": "Python 3",
   "language": "python",
   "name": "python3"
  },
  "language_info": {
   "codemirror_mode": {
    "name": "ipython",
    "version": 3
   },
   "file_extension": ".py",
   "mimetype": "text/x-python",
   "name": "python",
   "nbconvert_exporter": "python",
   "pygments_lexer": "ipython3",
   "version": "3.11.4"
  }
 },
 "nbformat": 4,
 "nbformat_minor": 1
}
